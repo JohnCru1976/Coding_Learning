{
 "cells": [
  {
   "cell_type": "markdown",
   "id": "2e3025fa",
   "metadata": {},
   "source": [
    "# Title 1\n",
    "## Title 2\n",
    "### Title 3\n",
    "#### Title 4\n",
    "##### Title 5\n",
    "###### Title 6"
   ]
  },
  {
   "cell_type": "markdown",
   "id": "de128a3c",
   "metadata": {},
   "source": [
    "*Italic*\n",
    "_Italic_\n",
    "**Bold**\n",
    "__Bold__"
   ]
  },
  {
   "cell_type": "markdown",
   "id": "590b5a86",
   "metadata": {},
   "source": [
    "* List_item1\n",
    "* List_item2\n",
    "  1. Ordered_List1\n",
    "  2. Ordered_List2\n",
    "  3. Ordered_List3\n",
    "    - Unordered_List1\n",
    "    - Unordered_List2"
   ]
  },
  {
   "cell_type": "markdown",
   "id": "1b9c1707",
   "metadata": {},
   "source": [
    "![Example Image](./image.jpg)\n",
    "\n",
    "[Click Me](https://www.google.es)\n",
    "\n",
    "[Profile](github.com/JohnCru1976)"
   ]
  },
  {
   "cell_type": "markdown",
   "id": "78c64ff6",
   "metadata": {},
   "source": [
    "Simon said:\n",
    "  > This is a cite\n",
    "    here continues the cite\n",
    "Other line"
   ]
  },
  {
   "cell_type": "markdown",
   "id": "0b26f13c",
   "metadata": {},
   "source": [
    "Check\n",
    "[]One\n",
    "[x]Two\n",
    "[]Three"
   ]
  },
  {
   "cell_type": "code",
   "execution_count": null,
   "id": "8024f611",
   "metadata": {},
   "outputs": [],
   "source": []
  }
 ],
 "metadata": {
  "kernelspec": {
   "display_name": "Python 3 (ipykernel)",
   "language": "python",
   "name": "python3"
  },
  "language_info": {
   "codemirror_mode": {
    "name": "ipython",
    "version": 3
   },
   "file_extension": ".py",
   "mimetype": "text/x-python",
   "name": "python",
   "nbconvert_exporter": "python",
   "pygments_lexer": "ipython3",
   "version": "3.10.6"
  }
 },
 "nbformat": 4,
 "nbformat_minor": 5
}
