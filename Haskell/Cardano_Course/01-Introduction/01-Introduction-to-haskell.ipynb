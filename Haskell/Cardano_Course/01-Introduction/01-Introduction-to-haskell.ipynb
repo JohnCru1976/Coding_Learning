{
 "cells": [
  {
   "cell_type": "markdown",
   "metadata": {
    "slideshow": {
     "slide_type": "slide"
    }
   },
   "source": [
    "# Introduction to\n",
    "\n",
    "\n",
    "![](https://www.haskell.org/img/haskell-logo.svg)"
   ]
  },
  {
   "cell_type": "markdown",
   "metadata": {
    "slideshow": {
     "slide_type": "slide"
    }
   },
   "source": [
    "## Outline\n",
    "* What is Haskell?\n",
    "* Functional programming languages\n",
    "\t* Function composition\n",
    "* Explicit effects (Pure)\n",
    "* Basic syntax\n",
    "\t* Indenting and Commenting\n",
    "\t* Defining and using functions\n",
    "* Haskell Type system\n",
    "* Laziness\n",
    "* Tools: GHC (GHCi), Cabal, Stack"
   ]
  },
  {
   "cell_type": "markdown",
   "metadata": {
    "slideshow": {
     "slide_type": "skip"
    }
   },
   "source": [
    "## How to use JupyterLab\n",
    "* Each lesson is a Jupyter notebook.\n",
    "* Each Jupyter notebook is a series of cells.\n",
    "* To execute a cell, click ⇧⏎ (Shift + Enter).\n",
    "* You can play around with the code inside the cells.\n",
    "* Once you close the tab, every change will be lost."
   ]
  },
  {
   "cell_type": "markdown",
   "metadata": {
    "slideshow": {
     "slide_type": "slide"
    }
   },
   "source": [
    "## What is Haskell?"
   ]
  },
  {
   "cell_type": "markdown",
   "metadata": {
    "slideshow": {
     "slide_type": "notes"
    }
   },
   "source": [
    "We'll go over each property of Haskell individually and answer this question at the end of the lecture."
   ]
  },
  {
   "cell_type": "markdown",
   "metadata": {
    "slideshow": {
     "slide_type": "slide"
    }
   },
   "source": [
    "##  Functional programming languages"
   ]
  },
  {
   "cell_type": "markdown",
   "metadata": {
    "slideshow": {
     "slide_type": "notes"
    }
   },
   "source": [
    "Haskell is a functional programming language."
   ]
  },
  {
   "cell_type": "markdown",
   "metadata": {
    "slideshow": {
     "slide_type": "fragment"
    }
   },
   "source": [
    "In imperative programming languages, function definitions are a sequence of imperative statements."
   ]
  },
  {
   "cell_type": "markdown",
   "metadata": {
    "slideshow": {
     "slide_type": "skip"
    }
   },
   "source": [
    "\n",
    "In functional programming languages, function definitions are **trees of expressions that map values to other values**."
   ]
  },
  {
   "cell_type": "markdown",
   "metadata": {
    "slideshow": {
     "slide_type": "fragment"
    }
   },
   "source": [
    "\n",
    "**Programs are constructed by *applying* and *composing* functions**. "
   ]
  },
  {
   "cell_type": "markdown",
   "metadata": {
    "slideshow": {
     "slide_type": "slide"
    }
   },
   "source": [
    "### Function composition"
   ]
  },
  {
   "cell_type": "markdown",
   "metadata": {
    "slideshow": {
     "slide_type": "fragment"
    }
   },
   "source": [
    "**Function composition is the act of *pipelining* the *result* of one function, to the *input* of another, creating an entirely new function**"
   ]
  },
  {
   "cell_type": "markdown",
   "metadata": {
    "slideshow": {
     "slide_type": "fragment"
    }
   },
   "source": [
    "Like the usual composition of functions in mathematics, the **result of each function is passed as the argument of the next**, and the result of the last one is the result of the whole."
   ]
  },
  {
   "cell_type": "markdown",
   "metadata": {
    "slideshow": {
     "slide_type": "notes"
    }
   },
   "source": [
    "For example, suppose we have two functions $f$ and $g$:\n",
    "\n",
    "$$y = f(x)$$\n",
    "$$z = g(y)$$\n",
    "\n",
    "Composing them means we first compute $f(x)$ to get $y$, and then use $y$ as an argument to compute $g(y)$ to get $z$.\n",
    "\n",
    "Creating a function that goes from $x$ to $z$:\n",
    "\n",
    "$$z = g(f(x))$$\n",
    "\n",
    "And that's how we can create **arbitrarily complex functions by composing simple functions.** "
   ]
  },
  {
   "cell_type": "markdown",
   "metadata": {
    "slideshow": {
     "slide_type": "slide"
    }
   },
   "source": [
    "For example, if we have:\n",
    "\n",
    "* A function that takes a spreadsheet and returns the list of players it contains.\n",
    "* A function that takes a list of players and returns the same list sorted by scores.\n",
    "* And a function that takes a list of players and returns the first 3.\n",
    "\n",
    "We could create **a single function that takes a spreadsheet and returns the 3 best players** by composing those three functions."
   ]
  },
  {
   "cell_type": "markdown",
   "metadata": {
    "slideshow": {
     "slide_type": "notes"
    }
   },
   "source": [
    "Also, Haskell has explicit effects (also called pure 👼)!"
   ]
  },
  {
   "cell_type": "markdown",
   "metadata": {
    "slideshow": {
     "slide_type": "slide"
    }
   },
   "source": [
    "## Explicit effects (purely functional)"
   ]
  },
  {
   "cell_type": "markdown",
   "metadata": {
    "slideshow": {
     "slide_type": "fragment"
    }
   },
   "source": [
    "Purely functional programming languages treat **all computations as the evaluation of mathematical functions**."
   ]
  },
  {
   "cell_type": "markdown",
   "metadata": {
    "slideshow": {
     "slide_type": "fragment"
    }
   },
   "source": [
    "In mathematics, the expression $y = x + 1$ means that the value of $y$ is a function that depends on $x$."
   ]
  },
  {
   "cell_type": "markdown",
   "metadata": {
    "slideshow": {
     "slide_type": "notes"
    }
   },
   "source": [
    "For a specific $x$, the value of $y$ will always be the same.\n",
    "\n",
    "No matter if you're in Italy or Spain, if it's 1994 or 2022, or if you have other equations in the notebook. $y$ will care about the value of $x$ and nothing else. "
   ]
  },
  {
   "cell_type": "markdown",
   "metadata": {
    "slideshow": {
     "slide_type": "slide"
    }
   },
   "source": [
    "In purely functional programming languages, pure functions depend **only on their arguments** and **don't interact with any global or local state**. (This is called having \"no *side effects*.\")"
   ]
  },
  {
   "cell_type": "markdown",
   "metadata": {
    "slideshow": {
     "slide_type": "fragment"
    }
   },
   "source": [
    "This means that, **for a specific input, a function will always return the same value. Every time.**"
   ]
  },
  {
   "cell_type": "markdown",
   "metadata": {
    "slideshow": {
     "slide_type": "notes"
    }
   },
   "source": [
    "It sounds like a bad idea, but if you think about it, it has some extremely convenient consequences:"
   ]
  },
  {
   "cell_type": "markdown",
   "metadata": {
    "slideshow": {
     "slide_type": "slide"
    }
   },
   "source": [
    "* It lets you easily deduce and prove that a function is correct.\n",
    "* In Haskell, one can always “replace equals by equals”, just like you learned in algebra class.\n",
    "* Makes your code significantly less error-prone.\n",
    "* It's easier to do parallel/concurrent computing. (If there is no data dependency between two pure expressions, then they can be performed in parallel, and they cannot interfere with one another.)\n",
    "* The list goes on..."
   ]
  },
  {
   "cell_type": "markdown",
   "metadata": {
    "slideshow": {
     "slide_type": "slide"
    }
   },
   "source": [
    "**Haskell works as a pure language, but allows for side effects (network communication, I/O, etc.) by explicitly tagging them in the type system.** We'll see how in future lessons. (This is called having \"*explicit effects*\")."
   ]
  },
  {
   "cell_type": "markdown",
   "metadata": {
    "slideshow": {
     "slide_type": "notes"
    }
   },
   "source": [
    "Before continuing with more properties, let's see how Haskell actually looks like."
   ]
  },
  {
   "cell_type": "markdown",
   "metadata": {
    "slideshow": {
     "slide_type": "slide"
    }
   },
   "source": [
    "## Basic syntax"
   ]
  },
  {
   "cell_type": "markdown",
   "metadata": {
    "slideshow": {
     "slide_type": "slide"
    }
   },
   "source": [
    "### Commenting the code"
   ]
  },
  {
   "cell_type": "code",
   "execution_count": null,
   "metadata": {
    "slideshow": {
     "slide_type": "fragment"
    }
   },
   "outputs": [],
   "source": [
    "-- Use double dash to comment within a single line of code.\n",
    "\n",
    "{-\n",
    "Use curly bracket with a single dash to\n",
    "  open and close\n",
    "multi-line comments.\n",
    "-}"
   ]
  },
  {
   "cell_type": "markdown",
   "metadata": {
    "slideshow": {
     "slide_type": "slide"
    }
   },
   "source": [
    "### Indentation\n",
    "\n",
    "**Haskell is indentation sensitive**. Which means that spaces, tabs, and newlines matter.\n",
    "\n",
    "The golden rule is:\n"
   ]
  },
  {
   "cell_type": "markdown",
   "metadata": {
    "slideshow": {
     "slide_type": "fragment"
    }
   },
   "source": [
    "<p><blockquote>Code which is part of some expression should be indented further in than the beginning of that expression (even if the expression is not the leftmost element of the line).</blockquote><p>"
   ]
  },
  {
   "cell_type": "markdown",
   "metadata": {
    "slideshow": {
     "slide_type": "notes"
    }
   },
   "source": [
    "We'll look at examples in future lessons."
   ]
  },
  {
   "cell_type": "markdown",
   "metadata": {
    "slideshow": {
     "slide_type": "slide"
    }
   },
   "source": [
    "### Defining functions"
   ]
  },
  {
   "cell_type": "markdown",
   "metadata": {
    "slideshow": {
     "slide_type": "notes"
    }
   },
   "source": [
    "Haskell being a functional programming language means that you're going to write plenty of functions. So,  that's where we'll start."
   ]
  },
  {
   "cell_type": "markdown",
   "metadata": {
    "slideshow": {
     "slide_type": "fragment"
    }
   },
   "source": [
    "This is an expression to define a function that checks if a number is greater than 18:"
   ]
  },
  {
   "cell_type": "code",
   "execution_count": null,
   "metadata": {
    "slideshow": {
     "slide_type": "fragment"
    }
   },
   "outputs": [],
   "source": [
    "greaterThan18 x = x > 18"
   ]
  },
  {
   "cell_type": "markdown",
   "metadata": {
    "slideshow": {
     "slide_type": "notes"
    }
   },
   "source": [
    "* `greaterThan18` is the name of the function. Choose a name that makes it easy to know what it does.\n",
    "* `x` is a parameter.\n",
    "* The `=` operator assigns the `x > 18` expression to the `greaterThan18` name.\n",
    "\n",
    "To the left of the `=` sign, we write the function's name and parameters. And to the right, the expression that'll be contained by this function."
   ]
  },
  {
   "cell_type": "markdown",
   "metadata": {
    "slideshow": {
     "slide_type": "slide"
    }
   },
   "source": [
    "### Using functions"
   ]
  },
  {
   "cell_type": "markdown",
   "metadata": {
    "slideshow": {
     "slide_type": "notes"
    }
   },
   "source": [
    "To use the `greaterThan18` function, we just have to write the name, a space, and write a number:"
   ]
  },
  {
   "cell_type": "code",
   "execution_count": null,
   "metadata": {
    "slideshow": {
     "slide_type": "fragment"
    }
   },
   "outputs": [],
   "source": [
    "greaterThan18 3"
   ]
  },
  {
   "cell_type": "markdown",
   "metadata": {
    "slideshow": {
     "slide_type": "notes"
    }
   },
   "source": [
    "The function is executed, Haskell replaces all the `x` with `30`, and `greaterThan18 30` becomes `30 > 18`. Then, it evaluates the expression, returning `True`."
   ]
  },
  {
   "cell_type": "markdown",
   "metadata": {
    "slideshow": {
     "slide_type": "slide"
    }
   },
   "source": [
    "### More examples"
   ]
  },
  {
   "cell_type": "code",
   "execution_count": null,
   "metadata": {
    "slideshow": {
     "slide_type": "slide"
    }
   },
   "outputs": [],
   "source": [
    "-- A function that adds 6 numbers:\n",
    "add6numbers u v w x y z = u + v + w + x + y + z\n",
    "add6numbers  1 2 3 4 5 6  -- 21"
   ]
  },
  {
   "cell_type": "code",
   "execution_count": null,
   "metadata": {
    "slideshow": {
     "slide_type": "slide"
    }
   },
   "outputs": [],
   "source": [
    "-- A function that calculates the volume of a cylinder\n",
    "volumeOfACylinder r h = pi * r^2 * h  -- pi represents the number π, and it comes with Haskell\n",
    "volumeOfACylinder 3 10"
   ]
  },
  {
   "cell_type": "code",
   "execution_count": null,
   "metadata": {
    "slideshow": {
     "slide_type": "slide"
    }
   },
   "outputs": [],
   "source": [
    "-- A function that takes the temperature in Fahrenheit and returns it in Celsius\n",
    "fToC x = (x - 32) * 5 / 9\n",
    "fToC 212  -- 100\t"
   ]
  },
  {
   "cell_type": "markdown",
   "metadata": {
    "slideshow": {
     "slide_type": "slide"
    }
   },
   "source": [
    "### Key points\n",
    "* Parameters are separated by spaces.\n",
    "* Everything after the `=` is the function's body.\n",
    "* The first letter of a function's name has to be lowercase.\n",
    "* We use parentheses to prioritize calculations, like in math."
   ]
  },
  {
   "cell_type": "markdown",
   "metadata": {
    "slideshow": {
     "slide_type": "slide"
    }
   },
   "source": [
    "## Haskell type system"
   ]
  },
  {
   "cell_type": "markdown",
   "metadata": {},
   "source": [
    "We will cover Haskell type system in depth in lesson 2. Here you will learn some basics."
   ]
  },
  {
   "cell_type": "markdown",
   "metadata": {
    "slideshow": {
     "slide_type": "notes"
    }
   },
   "source": [
    "Types are **attributes that constraint the values a piece of code can have**. For example, if you indicate that some data is a number, that data could have any of these values:"
   ]
  },
  {
   "cell_type": "markdown",
   "metadata": {
    "slideshow": {
     "slide_type": "fragment"
    }
   },
   "source": [
    "      32\n",
    "\n",
    "      9999695939294\n",
    "\n",
    "      0.5"
   ]
  },
  {
   "cell_type": "markdown",
   "metadata": {
    "slideshow": {
     "slide_type": "skip"
    }
   },
   "source": [
    "But, if you try to add a character in there, like this: `6A3` (instead of `63`), the compiler/interpreter will yell at you.\n",
    "\n",
    "What your compiler/interpreter did just there is called \"**type checking**.\" Some languages have more strongly enforced type checking, some less."
   ]
  },
  {
   "cell_type": "markdown",
   "metadata": {
    "slideshow": {
     "slide_type": "fragment"
    }
   },
   "source": [
    "      6A3"
   ]
  },
  {
   "cell_type": "markdown",
   "metadata": {
    "slideshow": {
     "slide_type": "slide"
    }
   },
   "source": [
    "### Type checking\n",
    "\n",
    "**Type checking is the process of verifying and enforcing the constraints of types.**"
   ]
  },
  {
   "cell_type": "markdown",
   "metadata": {
    "slideshow": {
     "slide_type": "fragment"
    }
   },
   "source": [
    "**What does this mean?** It means that each type has its own constraints (E.g., you can't do math with letters.), and this process checks that those constraints are respected."
   ]
  },
  {
   "cell_type": "markdown",
   "metadata": {
    "slideshow": {
     "slide_type": "fragment"
    }
   },
   "source": [
    "**Why would you do this?** To avoid preventable mistakes."
   ]
  },
  {
   "cell_type": "markdown",
   "metadata": {
    "slideshow": {
     "slide_type": "skip"
    }
   },
   "source": [
    "### Dynamically typed languages"
   ]
  },
  {
   "cell_type": "markdown",
   "metadata": {
    "slideshow": {
     "slide_type": "notes"
    }
   },
   "source": [
    "If further along in your program, you want to add up some numbers and one of them has a letter, the program wouldn't know what to do, and it would crash on you. Those are preventable mistakes (bugs), and the compiler/interpreter helps you avoid them."
   ]
  },
  {
   "cell_type": "markdown",
   "metadata": {
    "slideshow": {
     "slide_type": "notes"
    }
   },
   "source": [
    "Usually, this is done automatically. But not all languages do this the same way. There are two main distinctions regarding as to WHEN the types are checked: Dynamically typed languages and Statically typed languages."
   ]
  },
  {
   "cell_type": "markdown",
   "metadata": {
    "slideshow": {
     "slide_type": "slide"
    }
   },
   "source": [
    "**Dynamically typed languages check the types at run-time**."
   ]
  },
  {
   "cell_type": "markdown",
   "metadata": {
    "slideshow": {
     "slide_type": "skip"
    }
   },
   "source": [
    "Run-time is the very last thing that you do with a program. It's the stage when you run your program to test it or use it.\n",
    "\n",
    "Common examples of dynamically typed languages include JavaScript, Python, Objective-C, and PHP."
   ]
  },
  {
   "cell_type": "markdown",
   "metadata": {
    "slideshow": {
     "slide_type": "skip"
    }
   },
   "source": [
    "### Statically typed languages"
   ]
  },
  {
   "cell_type": "markdown",
   "metadata": {
    "slideshow": {
     "slide_type": "fragment"
    }
   },
   "source": [
    "**Statically typed languages check the types at compile-time**."
   ]
  },
  {
   "cell_type": "markdown",
   "metadata": {
    "slideshow": {
     "slide_type": "skip"
    }
   },
   "source": [
    "Meaning that you'll know if your types are wrong as soon as you compile your program. Which leads to a safer and more optimized code.\n",
    "\n",
    "Common examples of statically typed languages include Java, C, and C++."
   ]
  },
  {
   "cell_type": "markdown",
   "metadata": {
    "slideshow": {
     "slide_type": "slide"
    }
   },
   "source": [
    "### Haskell type system"
   ]
  },
  {
   "cell_type": "markdown",
   "metadata": {
    "slideshow": {
     "slide_type": "fragment"
    }
   },
   "source": [
    "**Haskell is statically typed**. And, in Haskell, **every expression has a type**."
   ]
  },
  {
   "cell_type": "markdown",
   "metadata": {
    "slideshow": {
     "slide_type": "notes"
    }
   },
   "source": [
    "But don't worry, you don't have to manually define the types of every expression because Haskell's compiler is very good at **type inference**."
   ]
  },
  {
   "cell_type": "markdown",
   "metadata": {
    "slideshow": {
     "slide_type": "fragment"
    }
   },
   "source": [
    "**Type inference allows Haskell to infer the types on its own**."
   ]
  },
  {
   "cell_type": "markdown",
   "metadata": {
    "slideshow": {
     "slide_type": "notes"
    }
   },
   "source": [
    "If you write something like `3 + 4`, Haskell will know that the result of that expression is a number, and it will treat it like it without the need for you to specify the type. (It works with more complicated expressions, too. See previous examples.)"
   ]
  },
  {
   "cell_type": "markdown",
   "metadata": {
    "slideshow": {
     "slide_type": "fragment"
    }
   },
   "source": [
    "That allows the compiler to **comprehend and reason *quite a lot* about your program**. Providing you with a pretty effective bug-catching assistant."
   ]
  },
  {
   "cell_type": "markdown",
   "metadata": {
    "slideshow": {
     "slide_type": "skip"
    }
   },
   "source": [
    "Even though it's not needed for the compiler, **it's considered good practice to write out the type signature of top-level functions and expressions**. To improve code readability."
   ]
  },
  {
   "cell_type": "markdown",
   "metadata": {
    "slideshow": {
     "slide_type": "notes"
    }
   },
   "source": [
    "If the code is too ambiguous for the compiler to infer the type, it'll ask you to specify the type."
   ]
  },
  {
   "cell_type": "markdown",
   "metadata": {
    "slideshow": {
     "slide_type": "slide"
    }
   },
   "source": [
    "## Laziness"
   ]
  },
  {
   "cell_type": "markdown",
   "metadata": {
    "slideshow": {
     "slide_type": "fragment"
    }
   },
   "source": [
    "**Haskell is lazy. This means that it won't evaluate expressions until their results are needed**"
   ]
  },
  {
   "cell_type": "markdown",
   "metadata": {
    "slideshow": {
     "slide_type": "notes"
    }
   },
   "source": [
    "Examples of Haskell laziness in practice:"
   ]
  },
  {
   "cell_type": "markdown",
   "metadata": {
    "slideshow": {
     "slide_type": "slide"
    }
   },
   "source": [
    "* We can use infinite lists."
   ]
  },
  {
   "cell_type": "code",
   "execution_count": null,
   "metadata": {
    "slideshow": {
     "slide_type": "fragment"
    }
   },
   "outputs": [],
   "source": [
    "giveMe x = take x [1..] -- [1..] is an infinite list of natural numbers that starts at 1.\n",
    "giveMe 7"
   ]
  },
  {
   "cell_type": "markdown",
   "metadata": {
    "slideshow": {
     "slide_type": "slide"
    }
   },
   "source": [
    "\n",
    "* Haskell won't evaluate expressions if they aren't needed"
   ]
  },
  {
   "cell_type": "code",
   "execution_count": null,
   "metadata": {
    "slideshow": {
     "slide_type": "fragment"
    }
   },
   "outputs": [],
   "source": [
    "cheapComputation = 7 \n",
    "expensiveComputation = sum [1..10000000] -- sum is a function that takes a list and returns the sum of all the elements. This will crash the kernel.\n",
    "if cheapComputation > 5 || expensiveComputation > 5 then \"Done\" else \"This won't ever show because expensiveComputation is always bigger than 5\"\n",
    "-- Try running this cell with cheapComputation being bigger and smaller than 5.\n",
    "-- When cheapComputation > 5, expensiveComputation isn't evaluated because it is not needed."
   ]
  },
  {
   "cell_type": "markdown",
   "metadata": {
    "slideshow": {
     "slide_type": "slide"
    }
   },
   "source": [
    "## So, what is Haskell?"
   ]
  },
  {
   "cell_type": "markdown",
   "metadata": {
    "slideshow": {
     "slide_type": "fragment"
    }
   },
   "source": [
    "#### Haskell is a statically typed, **lazy**, functional programming language with **explicit effects** and functions that look like this:\n",
    "\n",
    "```haskell\n",
    "volumeOfACylinder r h = pi * r^2 * h \n",
    "```"
   ]
  },
  {
   "cell_type": "markdown",
   "metadata": {
    "slideshow": {
     "slide_type": "fragment"
    }
   },
   "source": [
    "<div class=\"alert alert-block alert-info\">\n",
    "<b>Note:</b> Haskell has other important properties (like algebraic data types, type classes, type inference, polymorphism, ...) that we'll cover in future lessons.\n",
    "</div>"
   ]
  },
  {
   "cell_type": "markdown",
   "metadata": {
    "slideshow": {
     "slide_type": "notes"
    }
   },
   "source": [
    "(*Lazy* and *explicit effects* are two of the more unique properties of Haskell. That's why they're in bold.)"
   ]
  },
  {
   "cell_type": "markdown",
   "metadata": {
    "slideshow": {
     "slide_type": "slide"
    }
   },
   "source": [
    "## Tools"
   ]
  },
  {
   "cell_type": "markdown",
   "metadata": {
    "slideshow": {
     "slide_type": "slide"
    }
   },
   "source": [
    "### A few words on Cabal and Stack"
   ]
  },
  {
   "cell_type": "markdown",
   "metadata": {
    "slideshow": {
     "slide_type": "fragment"
    }
   },
   "source": [
    "While learning about Haskell, you'll often encounter the Cabal and Stack terms.\n",
    "\n",
    "**These are systems for managing libraries and programs**. They make it straightforward to work with libraries.\n",
    "\n",
    "We'll use Cabal in this course, and we'll explain how to use it at a later stage."
   ]
  },
  {
   "cell_type": "markdown",
   "metadata": {
    "slideshow": {
     "slide_type": "slide"
    }
   },
   "source": [
    "### GHC and GHCi"
   ]
  },
  {
   "cell_type": "markdown",
   "metadata": {
    "slideshow": {
     "slide_type": "fragment"
    }
   },
   "source": [
    "**GHC (Glasgow Haskell Compiler) is a compiler and interactive environment for Haskell**. Using GHC we can:\n",
    "* Compile programs and execute them like any other app.\n",
    "* Evaluate Haskell expressions on the fly using the interactive environment provided by the GHC (the GHCi).\n",
    "\n",
    "To use GHCi, open the terminal in the GitPod remote environment that we've prepared and type `ghci`.\n",
    "\n",
    "Use `:l relative/path.hs` inside GHCi to load a file and interactively use its contents and `:q` to quit."
   ]
  },
  {
   "cell_type": "markdown",
   "metadata": {},
   "source": [
    "**NOTE:** If you want to install GHC and GHCi on your computer you can follown the instructions on www.haskell.org/ghcup/. Instructions are provided for Windows, Mac and Linux."
   ]
  }
 ],
 "metadata": {
  "celltoolbar": "Slideshow",
  "kernelspec": {
   "display_name": "Haskell",
   "language": "haskell",
   "name": "haskell"
  },
  "language_info": {
   "codemirror_mode": "ihaskell",
   "file_extension": ".hs",
   "mimetype": "text/x-haskell",
   "name": "haskell",
   "pygments_lexer": "Haskell",
   "version": "8.10.7"
  },
  "rise": {
   "enable_chalkboard": true,
   "header": "<img style=\"position: relative; left: 1230px; width: 200px; top: 10px;\" src=\"https://raw.githubusercontent.com/rober-m/haskell-bootcamp/main/images/input-output.svg\"/>"
  }
 },
 "nbformat": 4,
 "nbformat_minor": 4
}