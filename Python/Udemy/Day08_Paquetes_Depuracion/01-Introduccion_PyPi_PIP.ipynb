{
 "cells": [
  {
   "cell_type": "markdown",
   "metadata": {},
   "source": [
    "#### ¿Qué es un módulo de Python?\n",
    "* Es cualquier archivo con extensión .py"
   ]
  },
  {
   "cell_type": "markdown",
   "metadata": {},
   "source": [
    "#### ¿Qué es un paquete de Python?\n",
    "* Es una carpeta (no una simple carpeta) que contiene varios módulos"
   ]
  },
  {
   "cell_type": "markdown",
   "metadata": {},
   "source": [
    "#### BÚSQUEDA DE PAQUETES EN PYPI\n",
    "* Existe el sitio https://pypi.org/ para la búsqueda de paquetes\n",
    "* Búsquedas en Google con el texto: \"Python packages for ...\"\n",
    "* Ejemplo: \"Python packages for console text colors\" ... encuentro el paquete colored en Pypi"
   ]
  },
  {
   "cell_type": "code",
   "execution_count": 1,
   "metadata": {},
   "outputs": [],
   "source": [
    "### Ejemplos uso pip ###\n",
    "\n",
    "## Se usaría este código para la instalación del paquete en el símbolo de sistema\n",
    "# pip install colored\n",
    "\n",
    "## Actualizar PIP en Windows\n",
    "# python -m pip install -U pip\n",
    "\n",
    "## Lista todos los paquetes\n",
    "# pip freeze\n",
    "# pip list\n",
    "\n",
    "## Paquetes pendientes de actualizar\n",
    "# pip3 list --outdated\n",
    "\n",
    "## Actualizar un paquete a la última versión\n",
    "# pip install -U <nombre del paquete>\n",
    "\n",
    "## Desinstala el paquete en cuestión\n",
    "# pip unistall nombre_paquete  \n",
    "\n",
    "## Actualizar todos los paquetes instalados (WINDOWS)\n",
    "# pip freeze | %{$_.split('==')[0]} | %{pip install --upgrade $_}\n",
    "\n",
    "## Actualizar todos los paquetes instalados (UNIX)\n",
    "# pip freeze –local | grep –v ‘^\\-e’ | cut –d = -f 1 | xargs pip install -U"
   ]
  }
 ],
 "metadata": {
  "kernelspec": {
   "display_name": "Python 3",
   "language": "python",
   "name": "python3"
  },
  "language_info": {
   "codemirror_mode": {
    "name": "ipython",
    "version": 3
   },
   "file_extension": ".py",
   "mimetype": "text/x-python",
   "name": "python",
   "nbconvert_exporter": "python",
   "pygments_lexer": "ipython3",
   "version": "3.11.5"
  },
  "orig_nbformat": 4
 },
 "nbformat": 4,
 "nbformat_minor": 2
}
